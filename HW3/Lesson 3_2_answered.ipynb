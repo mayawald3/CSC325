{
 "cells": [
  {
   "cell_type": "markdown",
   "id": "d611874f",
   "metadata": {},
   "source": [
    "# The Basics of NumPy Arrays"
   ]
  },
  {
   "cell_type": "markdown",
   "id": "6c1fa30a",
   "metadata": {},
   "source": [
    "Attributes of arrays <br>\n",
    "    Determining the size, shape, memory consumption, and data types of arrays<br><br>\n",
    "Indexing of arrays<br>\n",
    "    Getting and setting the value of individual array elements<br><br>\n",
    "Slicing of arrays<br>\n",
    "    Getting and setting smaller subarrays within a larger array<br><br>\n",
    "Reshaping of arrays<br>\n",
    "    Changing the shape of a given array<br><br>\n",
    "Joining and splitting of arrays<br>\n",
    "    Combining multiple arrays into one, and splitting one array into many<br><br>"
   ]
  },
  {
   "cell_type": "markdown",
   "id": "25f9ec03",
   "metadata": {},
   "source": [
    "# NumPy Array Attributes"
   ]
  },
  {
   "cell_type": "code",
   "execution_count": 3,
   "id": "8eceec84",
   "metadata": {},
   "outputs": [],
   "source": [
    "import numpy as np\n",
    "np.random.seed(0) # seed for reproducibility\n",
    "\n",
    "x1 = np.random.randint(10, size=6) # One-dimensional array\n",
    "x2 = np.random.randint(10, size=(3, 4)) # Two-dimensional array\n",
    "x3 = np.random.randint(10, size=(3, 4, 5)) # Three-dimensional array"
   ]
  },
  {
   "cell_type": "raw",
   "id": "eff9f6c8",
   "metadata": {},
   "source": [
    "Question : What does np.random.seed do. \n",
    "Ans : allows you to generate the same random numbers every time the program is ran\n",
    "           What does np.random.randint do. \n",
    "Ans : generates a random integer"
   ]
  },
  {
   "cell_type": "code",
   "execution_count": 8,
   "id": "aaa37d33",
   "metadata": {},
   "outputs": [
    {
     "name": "stdout",
     "output_type": "stream",
     "text": [
      "x3 ndim:  3\n",
      "x3 shape: (3, 4, 5)\n",
      "x3 size:  60\n"
     ]
    },
    {
     "data": {
      "text/plain": [
       "1"
      ]
     },
     "execution_count": 8,
     "metadata": {},
     "output_type": "execute_result"
    }
   ],
   "source": [
    "print(\"x3 ndim: \", x3.ndim)\n",
    "print(\"x3 shape:\", x3.shape)\n",
    "print(\"x3 size: \", x3.size)"
   ]
  },
  {
   "cell_type": "markdown",
   "id": "ada32327",
   "metadata": {},
   "source": [
    "Question 1 : What does np.random.seed(0) do in the random number generation? <br>\n",
    "- creates a seed from which the random numbers are generated so that you can rerun the script and get the same random numbers <br>\n",
    "\n",
    "Question 2 : What is the expected output (ndim, shape, size) if size is changed to a 4 dimensional array?<br>\n",
    "for size=(3, 4, 5, 6) <br>\n",
    "- ndim = 4, shape = (3, 4, 5, 6), size = 360 <br>\n",
    "\n",
    "Question 3 : How many elements are present in the 3 arrays?<br>\n",
    "- x1 has 5 elements, x2 has 12 elements, and x3 has 60 elements<br>\n",
    "\n",
    "Question 4 : Which paramter(s) allows me to change the range of values?<br>\n",
    "- the first two parameters in np.random.randint(<low>, <high>...) allows for changing the range<br>\n",
    "\n",
    "Question 5 : How do we tell the data types for x1, x2 and x3? <br>\n",
    "- use the type function type(x1) etc...<br>\n",
    "\n",
    "Question 6 : How do we tell the size of the individual elements and the overall size of all the elements?<br>\n",
    "- x1[(element index)].size and x1.size<br>"
   ]
  },
  {
   "cell_type": "markdown",
   "id": "ba79d4b6",
   "metadata": {},
   "source": [
    "# Array Indexing: Accessing Single Elements"
   ]
  },
  {
   "cell_type": "markdown",
   "id": "299f0086",
   "metadata": {},
   "source": [
    "In a one-dimensional array, you can access the ith value (counting from\n",
    "zero) by specifying the desired index in square brackets"
   ]
  },
  {
   "cell_type": "code",
   "execution_count": 5,
   "id": "f219f07f",
   "metadata": {},
   "outputs": [
    {
     "ename": "IndexError",
     "evalue": "index 6 is out of bounds for axis 0 with size 6",
     "output_type": "error",
     "traceback": [
      "\u001b[1;31m---------------------------------------------------------------------------\u001b[0m",
      "\u001b[1;31mIndexError\u001b[0m                                Traceback (most recent call last)",
      "\u001b[1;32m~\\AppData\\Local\\Temp\\ipykernel_14176\\2131530738.py\u001b[0m in \u001b[0;36m<module>\u001b[1;34m\u001b[0m\n\u001b[1;32m----> 1\u001b[1;33m \u001b[0mx1\u001b[0m\u001b[1;33m[\u001b[0m\u001b[1;36m6\u001b[0m\u001b[1;33m]\u001b[0m\u001b[1;33m\u001b[0m\u001b[1;33m\u001b[0m\u001b[0m\n\u001b[0m",
      "\u001b[1;31mIndexError\u001b[0m: index 6 is out of bounds for axis 0 with size 6"
     ]
    }
   ],
   "source": [
    "x1[6]"
   ]
  },
  {
   "cell_type": "markdown",
   "id": "01223823",
   "metadata": {},
   "source": [
    "Question : What does x1[6] return?<br>\n",
    "- it returns an error because the 6th element in that array does not exist<br>\n",
    "\n",
    "Question : How do I get the last element? <br>\n",
    "x1[x1.size-1]"
   ]
  },
  {
   "cell_type": "code",
   "execution_count": 6,
   "id": "c2c9f8f5",
   "metadata": {},
   "outputs": [
    {
     "data": {
      "text/plain": [
       "3"
      ]
     },
     "execution_count": 6,
     "metadata": {},
     "output_type": "execute_result"
    }
   ],
   "source": [
    "x2[0,0]"
   ]
  },
  {
   "cell_type": "code",
   "execution_count": 7,
   "id": "92ccf584",
   "metadata": {},
   "outputs": [
    {
     "data": {
      "text/plain": [
       "8"
      ]
     },
     "execution_count": 7,
     "metadata": {},
     "output_type": "execute_result"
    }
   ],
   "source": [
    "x3[0,0,0]"
   ]
  },
  {
   "cell_type": "markdown",
   "id": "efb958d3",
   "metadata": {},
   "source": [
    "Question : Change the value of x2[0,0] to 3.14? Verify the data type?\n",
    "              "
   ]
  },
  {
   "cell_type": "code",
   "execution_count": 19,
   "id": "5a9e23a7-37cf-4d29-8667-b47767c89057",
   "metadata": {},
   "outputs": [
    {
     "name": "stdout",
     "output_type": "stream",
     "text": [
      "[[3.14 5.   2.   4.  ]\n",
      " [7.   6.   8.   8.  ]\n",
      " [1.   6.   7.   7.  ]]\n"
     ]
    },
    {
     "data": {
      "text/plain": [
       "numpy.float32"
      ]
     },
     "execution_count": 19,
     "metadata": {},
     "output_type": "execute_result"
    }
   ],
   "source": [
    "x2 = np.float32(x2)\n",
    "x2[0,0] = 3.14\n",
    "print(x2)\n",
    "type(x2[0,0])"
   ]
  },
  {
   "cell_type": "markdown",
   "id": "e38e9b24",
   "metadata": {},
   "source": [
    "# Array Slicing: Accessing Subarrays"
   ]
  },
  {
   "cell_type": "markdown",
   "id": "ba5c0d0e",
   "metadata": {},
   "source": [
    "We can also use them to access subarrays with the slice notation, marked by the colon (:) character.<br>\n",
    "x[start:stop:step]<br>"
   ]
  },
  {
   "cell_type": "code",
   "execution_count": 21,
   "id": "c05c024d",
   "metadata": {},
   "outputs": [
    {
     "data": {
      "text/plain": [
       "array([0, 1, 2, 3, 4, 5, 6, 7, 8, 9])"
      ]
     },
     "execution_count": 21,
     "metadata": {},
     "output_type": "execute_result"
    }
   ],
   "source": [
    "x = np.arange(10)\n",
    "x"
   ]
  },
  {
   "cell_type": "code",
   "execution_count": 9,
   "id": "aecc9d59",
   "metadata": {},
   "outputs": [
    {
     "data": {
      "text/plain": [
       "array([5, 6, 7, 8, 9])"
      ]
     },
     "execution_count": 9,
     "metadata": {},
     "output_type": "execute_result"
    }
   ],
   "source": [
    "# first five elements\n",
    "x[5:] "
   ]
  },
  {
   "cell_type": "code",
   "execution_count": 10,
   "id": "027c78bf",
   "metadata": {},
   "outputs": [
    {
     "data": {
      "text/plain": [
       "array([4, 5, 6])"
      ]
     },
     "execution_count": 10,
     "metadata": {},
     "output_type": "execute_result"
    }
   ],
   "source": [
    "# elements from 4th to 7th index\n",
    "x[4:7]"
   ]
  },
  {
   "cell_type": "code",
   "execution_count": 11,
   "id": "739fd65f",
   "metadata": {},
   "outputs": [
    {
     "data": {
      "text/plain": [
       "array([0, 2, 4, 6, 8])"
      ]
     },
     "execution_count": 11,
     "metadata": {},
     "output_type": "execute_result"
    }
   ],
   "source": [
    "# every other element\n",
    "x[::2] "
   ]
  },
  {
   "cell_type": "code",
   "execution_count": 12,
   "id": "43c0c045",
   "metadata": {},
   "outputs": [
    {
     "data": {
      "text/plain": [
       "array([1, 3, 5, 7, 9])"
      ]
     },
     "execution_count": 12,
     "metadata": {},
     "output_type": "execute_result"
    }
   ],
   "source": [
    "# every other element, starting at index 1 \n",
    "x[1::2]"
   ]
  },
  {
   "cell_type": "markdown",
   "id": "57e25f54",
   "metadata": {},
   "source": [
    "Question : How do we reverse all the elements (clue : use :: and -1?"
   ]
  },
  {
   "cell_type": "code",
   "execution_count": 22,
   "id": "2a5ecb24-eef5-4ada-9537-e8228697597d",
   "metadata": {},
   "outputs": [
    {
     "data": {
      "text/plain": [
       "array([9, 8, 7, 6, 5, 4, 3, 2, 1, 0])"
      ]
     },
     "execution_count": 22,
     "metadata": {},
     "output_type": "execute_result"
    }
   ],
   "source": [
    "x[::-1]"
   ]
  },
  {
   "cell_type": "markdown",
   "id": "17d6c50f",
   "metadata": {},
   "source": [
    "Question : What is the output : x[5::-2] ?\n",
    "- starting at 5 walk backwards at an interval of 2 "
   ]
  },
  {
   "cell_type": "code",
   "execution_count": 25,
   "id": "b6cf330a-ff29-4c85-b2f5-6f9a1aa79f2b",
   "metadata": {},
   "outputs": [
    {
     "data": {
      "text/plain": [
       "array([5, 3, 1])"
      ]
     },
     "execution_count": 25,
     "metadata": {},
     "output_type": "execute_result"
    }
   ],
   "source": [
    "x[5::-2]"
   ]
  },
  {
   "cell_type": "markdown",
   "id": "095c4fae",
   "metadata": {},
   "source": [
    "# Multidimensional subarrays"
   ]
  },
  {
   "cell_type": "code",
   "execution_count": 27,
   "id": "5aa6cbb1-b5d9-4d24-a7f5-6d8d175137b5",
   "metadata": {},
   "outputs": [],
   "source": [
    "x2 = np.int64(x2)"
   ]
  },
  {
   "cell_type": "code",
   "execution_count": 28,
   "id": "0ef2cabf",
   "metadata": {},
   "outputs": [
    {
     "data": {
      "text/plain": [
       "array([[3, 5, 2, 4],\n",
       "       [7, 6, 8, 8],\n",
       "       [1, 6, 7, 7]])"
      ]
     },
     "execution_count": 28,
     "metadata": {},
     "output_type": "execute_result"
    }
   ],
   "source": [
    "x2"
   ]
  },
  {
   "cell_type": "code",
   "execution_count": 14,
   "id": "e176279b",
   "metadata": {},
   "outputs": [
    {
     "data": {
      "text/plain": [
       "array([[3, 5, 2],\n",
       "       [7, 6, 8]])"
      ]
     },
     "execution_count": 14,
     "metadata": {},
     "output_type": "execute_result"
    }
   ],
   "source": [
    "# two rows, three columns\n",
    "x2[:2, :3] "
   ]
  },
  {
   "cell_type": "code",
   "execution_count": 15,
   "id": "bd49bbbc",
   "metadata": {},
   "outputs": [
    {
     "data": {
      "text/plain": [
       "array([[3, 2],\n",
       "       [7, 8],\n",
       "       [1, 7]])"
      ]
     },
     "execution_count": 15,
     "metadata": {},
     "output_type": "execute_result"
    }
   ],
   "source": [
    "# all rows, every other column\n",
    "x2[:3, ::2]"
   ]
  },
  {
   "cell_type": "code",
   "execution_count": 16,
   "id": "c317611a",
   "metadata": {},
   "outputs": [
    {
     "data": {
      "text/plain": [
       "array([[7, 7, 6, 1],\n",
       "       [8, 8, 6, 7],\n",
       "       [4, 2, 5, 3]])"
      ]
     },
     "execution_count": 16,
     "metadata": {},
     "output_type": "execute_result"
    }
   ],
   "source": [
    "x2[::-1, ::-1]"
   ]
  },
  {
   "cell_type": "markdown",
   "id": "7066e37a",
   "metadata": {},
   "source": [
    "# Accessing array rows and columns"
   ]
  },
  {
   "cell_type": "markdown",
   "id": "e671ee36",
   "metadata": {},
   "source": [
    "Accessing single rows or columns of an array. You can do this by combining indexing and slicing,\n",
    "using an empty slice marked by a single colon (:):<br>"
   ]
  },
  {
   "cell_type": "code",
   "execution_count": 17,
   "id": "0ade90f7",
   "metadata": {},
   "outputs": [
    {
     "data": {
      "text/plain": [
       "array([[3, 5, 2, 4],\n",
       "       [7, 6, 8, 8],\n",
       "       [1, 6, 7, 7]])"
      ]
     },
     "execution_count": 17,
     "metadata": {},
     "output_type": "execute_result"
    }
   ],
   "source": [
    "x2"
   ]
  },
  {
   "cell_type": "code",
   "execution_count": 18,
   "id": "40ca242a",
   "metadata": {},
   "outputs": [
    {
     "name": "stdout",
     "output_type": "stream",
     "text": [
      "[3 7 1]\n"
     ]
    }
   ],
   "source": [
    "print(x2[:, 0])"
   ]
  },
  {
   "cell_type": "code",
   "execution_count": 19,
   "id": "5db0f99a",
   "metadata": {},
   "outputs": [
    {
     "data": {
      "text/plain": [
       "array([[3, 5, 2, 4],\n",
       "       [7, 6, 8, 8],\n",
       "       [1, 6, 7, 7]])"
      ]
     },
     "execution_count": 19,
     "metadata": {},
     "output_type": "execute_result"
    }
   ],
   "source": [
    "x2"
   ]
  },
  {
   "cell_type": "markdown",
   "id": "f8d0f472",
   "metadata": {},
   "source": [
    "Question : Print all the elements of row 0. Simplify the syntax."
   ]
  },
  {
   "cell_type": "code",
   "execution_count": 38,
   "id": "3c51216a-422d-474f-98c0-546cbc8ddc5e",
   "metadata": {},
   "outputs": [
    {
     "data": {
      "text/plain": [
       "array([[3, 5, 2, 4]])"
      ]
     },
     "execution_count": 38,
     "metadata": {},
     "output_type": "execute_result"
    }
   ],
   "source": [
    "x2[:1,:4]"
   ]
  },
  {
   "cell_type": "markdown",
   "id": "4f35ac43",
   "metadata": {},
   "source": [
    "# Subarrays as no-copy views"
   ]
  },
  {
   "cell_type": "markdown",
   "id": "c37ebf27",
   "metadata": {},
   "source": [
    "Slices vs views."
   ]
  },
  {
   "cell_type": "code",
   "execution_count": 20,
   "id": "96fdd247",
   "metadata": {},
   "outputs": [
    {
     "data": {
      "text/plain": [
       "array([[3, 5, 2, 4],\n",
       "       [7, 6, 8, 8],\n",
       "       [1, 6, 7, 7]])"
      ]
     },
     "execution_count": 20,
     "metadata": {},
     "output_type": "execute_result"
    }
   ],
   "source": [
    "x2"
   ]
  },
  {
   "cell_type": "code",
   "execution_count": 39,
   "id": "a2f74d86",
   "metadata": {},
   "outputs": [
    {
     "name": "stdout",
     "output_type": "stream",
     "text": [
      "[[3 5]\n",
      " [7 6]]\n",
      "[[99  5  2  4]\n",
      " [ 7  6  8  8]\n",
      " [ 1  6  7  7]]\n"
     ]
    }
   ],
   "source": [
    "x2_sub = x2[:2, :2]\n",
    "print(x2_sub)\n",
    "x2_sub[0, 0] = 99\n",
    "print(x2)\n"
   ]
  },
  {
   "cell_type": "markdown",
   "id": "1fcf3e33",
   "metadata": {},
   "source": [
    "# Creating copies of arrays"
   ]
  },
  {
   "cell_type": "markdown",
   "id": "34612df1",
   "metadata": {},
   "source": [
    "We modify this subarray, we’ll see that the original array is changed!"
   ]
  },
  {
   "cell_type": "code",
   "execution_count": 40,
   "id": "d0c86326",
   "metadata": {},
   "outputs": [
    {
     "name": "stdout",
     "output_type": "stream",
     "text": [
      "[[99  5]\n",
      " [ 7  6]]\n"
     ]
    },
    {
     "data": {
      "text/plain": [
       "array([[99,  5,  2,  4],\n",
       "       [ 7,  6,  8,  8],\n",
       "       [ 1,  6,  7,  7]])"
      ]
     },
     "execution_count": 40,
     "metadata": {},
     "output_type": "execute_result"
    }
   ],
   "source": [
    "x2_sub_copy = x2[:2, :2].copy()\n",
    "print(x2_sub_copy)\n",
    "x2_sub_copy[0, 0] = 42\n",
    "x2"
   ]
  },
  {
   "cell_type": "markdown",
   "id": "e947fde8",
   "metadata": {},
   "source": [
    "Question : What is the difference, advantage and diadvantage of slices vs views\n",
    "- If something is modified in a slice, it modifies the original array as well. If something is modified in a copy view, it does not modify the original array"
   ]
  },
  {
   "cell_type": "markdown",
   "id": "69acbf18",
   "metadata": {},
   "source": [
    "# Reshaping of Arrays"
   ]
  },
  {
   "cell_type": "markdown",
   "id": "829dcefe",
   "metadata": {},
   "source": [
    "For example, if you want to put the numbers\n",
    "1 through 9 in a 3×3 grid,"
   ]
  },
  {
   "cell_type": "code",
   "execution_count": 23,
   "id": "7a6a78b0",
   "metadata": {},
   "outputs": [
    {
     "name": "stdout",
     "output_type": "stream",
     "text": [
      "[1 2 3 4 5 6 7 8 9]\n"
     ]
    }
   ],
   "source": [
    "grid = np.arange(1, 10)\n",
    "print(grid)"
   ]
  },
  {
   "cell_type": "code",
   "execution_count": 24,
   "id": "65393215",
   "metadata": {},
   "outputs": [
    {
     "name": "stdout",
     "output_type": "stream",
     "text": [
      "[[1 2 3]\n",
      " [4 5 6]\n",
      " [7 8 9]]\n"
     ]
    }
   ],
   "source": [
    "grid = np.arange(1, 10).reshape((3, 3))\n",
    "print(grid)\n",
    "\n",
    "#the reshape method will use a no-copy view of the initial array, but with noncontiguous memory buffers this is not always the case."
   ]
  },
  {
   "cell_type": "code",
   "execution_count": 25,
   "id": "6ad535e6",
   "metadata": {},
   "outputs": [
    {
     "data": {
      "text/plain": [
       "array([1, 2, 3])"
      ]
     },
     "execution_count": 25,
     "metadata": {},
     "output_type": "execute_result"
    }
   ],
   "source": [
    "x = np.array([1, 2, 3])\n",
    "x"
   ]
  },
  {
   "cell_type": "code",
   "execution_count": 26,
   "id": "64769c5e",
   "metadata": {},
   "outputs": [
    {
     "data": {
      "text/plain": [
       "array([[1, 2, 3]])"
      ]
     },
     "execution_count": 26,
     "metadata": {},
     "output_type": "execute_result"
    }
   ],
   "source": [
    "# row vector via reshape\n",
    "x.reshape((1, 3))"
   ]
  },
  {
   "cell_type": "code",
   "execution_count": 27,
   "id": "20577f2b",
   "metadata": {},
   "outputs": [
    {
     "data": {
      "text/plain": [
       "array([[1, 2, 3]])"
      ]
     },
     "execution_count": 27,
     "metadata": {},
     "output_type": "execute_result"
    }
   ],
   "source": [
    "# row vector via newaxis\n",
    "x[np.newaxis, :]"
   ]
  },
  {
   "cell_type": "code",
   "execution_count": 28,
   "id": "4aff0df6",
   "metadata": {},
   "outputs": [
    {
     "data": {
      "text/plain": [
       "array([[1],\n",
       "       [2],\n",
       "       [3]])"
      ]
     },
     "execution_count": 28,
     "metadata": {},
     "output_type": "execute_result"
    }
   ],
   "source": [
    "# column vector via reshape\n",
    "x.reshape((3, 1))"
   ]
  },
  {
   "cell_type": "code",
   "execution_count": 29,
   "id": "9287b591",
   "metadata": {},
   "outputs": [
    {
     "data": {
      "text/plain": [
       "array([[1],\n",
       "       [2],\n",
       "       [3]])"
      ]
     },
     "execution_count": 29,
     "metadata": {},
     "output_type": "execute_result"
    }
   ],
   "source": [
    "# column vector via newaxis\n",
    "x[:, np.newaxis]"
   ]
  },
  {
   "cell_type": "markdown",
   "id": "45f5aa3b",
   "metadata": {},
   "source": [
    "# Array Concatenation and Splitting"
   ]
  },
  {
   "cell_type": "markdown",
   "id": "c3bbf54e",
   "metadata": {},
   "source": [
    "# Concatenation of arrays"
   ]
  },
  {
   "cell_type": "markdown",
   "id": "94eeb9ea",
   "metadata": {},
   "source": [
    "np.concatenate <br> np.vstack <br>  np.hstack<br> "
   ]
  },
  {
   "cell_type": "code",
   "execution_count": 42,
   "id": "c3dd9037",
   "metadata": {},
   "outputs": [
    {
     "data": {
      "text/plain": [
       "array([ 1,  2,  3,  3,  2,  1, 99, 99, 99])"
      ]
     },
     "execution_count": 42,
     "metadata": {},
     "output_type": "execute_result"
    }
   ],
   "source": [
    "x = np.array([1, 2, 3])\n",
    "y = np.array([3, 2, 1])\n",
    "z = [99, 99, 99]\n",
    "np.concatenate([x, y, z])"
   ]
  },
  {
   "cell_type": "markdown",
   "id": "a13603ac",
   "metadata": {},
   "source": [
    "Question : Concatenate one more array, z = [99, 99, 99]. <br> \n",
    "np.concatenate([x, y, z, z])\n",
    "\n",
    "Question : Concatenate 2 2D arrays say grid.<br>\n",
    "a = [[1, 2],[3,4]]<br>\n",
    "b = [[5,6],[7,8]]<br>\n",
    "grid = np.concatenate([a,b])<br>"
   ]
  },
  {
   "cell_type": "code",
   "execution_count": 48,
   "id": "2d1102ab",
   "metadata": {},
   "outputs": [],
   "source": [
    "grid = np.array([[1, 2, 3],\n",
    "[4, 5, 6]])"
   ]
  },
  {
   "cell_type": "code",
   "execution_count": 49,
   "id": "9f4b0996",
   "metadata": {},
   "outputs": [
    {
     "data": {
      "text/plain": [
       "array([[1, 2, 3],\n",
       "       [4, 5, 6]])"
      ]
     },
     "execution_count": 49,
     "metadata": {},
     "output_type": "execute_result"
    }
   ],
   "source": [
    "grid\n"
   ]
  },
  {
   "cell_type": "code",
   "execution_count": 50,
   "id": "3113df38",
   "metadata": {},
   "outputs": [
    {
     "data": {
      "text/plain": [
       "array([[1, 2, 3],\n",
       "       [4, 5, 6],\n",
       "       [1, 2, 3],\n",
       "       [4, 5, 6]])"
      ]
     },
     "execution_count": 50,
     "metadata": {},
     "output_type": "execute_result"
    }
   ],
   "source": [
    "np.concatenate([grid, grid])"
   ]
  },
  {
   "cell_type": "code",
   "execution_count": 51,
   "id": "a07afb7b",
   "metadata": {},
   "outputs": [
    {
     "data": {
      "text/plain": [
       "array([[1, 2, 3, 1, 2, 3],\n",
       "       [4, 5, 6, 4, 5, 6]])"
      ]
     },
     "execution_count": 51,
     "metadata": {},
     "output_type": "execute_result"
    }
   ],
   "source": [
    "# concatenate along the second axis (zero-indexed)\n",
    "np.concatenate([grid, grid], axis=1)"
   ]
  },
  {
   "cell_type": "code",
   "execution_count": 52,
   "id": "a64f08eb",
   "metadata": {},
   "outputs": [
    {
     "data": {
      "text/plain": [
       "array([[1, 2, 3],\n",
       "       [9, 8, 7],\n",
       "       [6, 5, 4]])"
      ]
     },
     "execution_count": 52,
     "metadata": {},
     "output_type": "execute_result"
    }
   ],
   "source": [
    "x = np.array([1, 2, 3])\n",
    "grid = np.array([[9, 8, 7], [6, 5, 4]])\n",
    "# vertically stack the arrays\n",
    "np.vstack([x, grid])"
   ]
  },
  {
   "cell_type": "code",
   "execution_count": 53,
   "id": "5b1e416f",
   "metadata": {},
   "outputs": [
    {
     "data": {
      "text/plain": [
       "array([[9, 8, 7],\n",
       "       [6, 5, 4],\n",
       "       [1, 2, 3]])"
      ]
     },
     "execution_count": 53,
     "metadata": {},
     "output_type": "execute_result"
    }
   ],
   "source": [
    "#Try this : np.vstack([ grid,x])\n",
    "np.vstack([grid, x])"
   ]
  },
  {
   "cell_type": "code",
   "execution_count": 37,
   "id": "4b006b6d",
   "metadata": {},
   "outputs": [
    {
     "data": {
      "text/plain": [
       "array([[ 9,  8,  7, 99],\n",
       "       [ 6,  5,  4, 99]])"
      ]
     },
     "execution_count": 37,
     "metadata": {},
     "output_type": "execute_result"
    }
   ],
   "source": [
    "# horizontally stack the arrays\n",
    "y = np.array([[99],[99]])\n",
    "np.hstack([grid, y])"
   ]
  },
  {
   "cell_type": "markdown",
   "id": "01ff0ca7",
   "metadata": {},
   "source": [
    "# Splitting of arrays"
   ]
  },
  {
   "cell_type": "markdown",
   "id": "916920f1",
   "metadata": {},
   "source": [
    "np.split<br> np.hsplit<br> np.vsplit<br>"
   ]
  },
  {
   "cell_type": "code",
   "execution_count": 38,
   "id": "d23f4c67",
   "metadata": {},
   "outputs": [
    {
     "name": "stdout",
     "output_type": "stream",
     "text": [
      "[1 2 3] [99 99] [3 2 1]\n"
     ]
    }
   ],
   "source": [
    "x = [1, 2, 3, 99, 99, 3, 2, 1]\n",
    "x1, x2, x3 = np.split(x, [3, 5])\n",
    "print(x1, x2, x3)"
   ]
  },
  {
   "cell_type": "markdown",
   "id": "0c761e74",
   "metadata": {},
   "source": [
    "Question : Based on the result, describe the values [3, 5]. <br>\n",
    "- x was split at position 3 and 5"
   ]
  },
  {
   "cell_type": "code",
   "execution_count": 39,
   "id": "70d89b3b",
   "metadata": {},
   "outputs": [
    {
     "data": {
      "text/plain": [
       "array([[ 0,  1,  2,  3],\n",
       "       [ 4,  5,  6,  7],\n",
       "       [ 8,  9, 10, 11],\n",
       "       [12, 13, 14, 15]])"
      ]
     },
     "execution_count": 39,
     "metadata": {},
     "output_type": "execute_result"
    }
   ],
   "source": [
    "grid = np.arange(16).reshape((4, 4))\n",
    "grid"
   ]
  },
  {
   "cell_type": "code",
   "execution_count": 40,
   "id": "3ccea7d5",
   "metadata": {},
   "outputs": [
    {
     "name": "stdout",
     "output_type": "stream",
     "text": [
      "[[0 1 2 3]\n",
      " [4 5 6 7]]\n",
      "[[ 8  9 10 11]\n",
      " [12 13 14 15]]\n"
     ]
    }
   ],
   "source": [
    "upper, lower = np.vsplit(grid, [2])\n",
    "print(upper)\n",
    "print(lower)"
   ]
  },
  {
   "cell_type": "code",
   "execution_count": 41,
   "id": "17265436",
   "metadata": {},
   "outputs": [
    {
     "name": "stdout",
     "output_type": "stream",
     "text": [
      "[[ 0  1]\n",
      " [ 4  5]\n",
      " [ 8  9]\n",
      " [12 13]]\n",
      "[[ 2  3]\n",
      " [ 6  7]\n",
      " [10 11]\n",
      " [14 15]]\n"
     ]
    }
   ],
   "source": [
    "left, right = np.hsplit(grid, [2])\n",
    "print(left)\n",
    "print(right)"
   ]
  },
  {
   "cell_type": "markdown",
   "id": "421c363b",
   "metadata": {},
   "source": [
    "# Computation on NumPy Arrays: Universal Functions"
   ]
  },
  {
   "cell_type": "markdown",
   "id": "47985ea7",
   "metadata": {},
   "source": [
    "Computation on NumPy arrays can be very fast, or it can be very slow. The key to\n",
    "making it fast is to use vectorized operations, generally implemented through Num‐\n",
    "Py’s universal functions (ufuncs).<br> \n",
    "\n",
    "NumPy’s ufuncs, which can be used to make repeated calculations on array elements much more efficient.\n",
    "It then introduces many of the most common and useful arithmetic ufuncs\n",
    "available in the NumPy package.<br>"
   ]
  },
  {
   "cell_type": "markdown",
   "id": "9c1ec4ca",
   "metadata": {},
   "source": [
    "# The Slowness of Loops"
   ]
  },
  {
   "cell_type": "markdown",
   "id": "168ecc1e",
   "metadata": {},
   "source": [
    "Compute the reciprocal of each element. "
   ]
  },
  {
   "cell_type": "code",
   "execution_count": 42,
   "id": "e331df11",
   "metadata": {},
   "outputs": [
    {
     "data": {
      "text/plain": [
       "array([1.66666667e-001, 4.67296746e-307, 5.47424736e-321, 6.95314361e-310,\n",
       "       0.00000000e+000])"
      ]
     },
     "execution_count": 42,
     "metadata": {},
     "output_type": "execute_result"
    }
   ],
   "source": [
    "import numpy as np\n",
    "np.random.seed(0)\n",
    "def compute_reciprocals(values):\n",
    "    output = np.empty(len(values))\n",
    "    for i in range(len(values)):\n",
    "        output[i] = 1.0 / values[i]\n",
    "        return output\n",
    "\n",
    "values = np.random.randint(1, 10, size=5)\n",
    "compute_reciprocals(values)"
   ]
  },
  {
   "cell_type": "markdown",
   "id": "089d5331",
   "metadata": {},
   "source": [
    "Question : We’ll benchmark this\n",
    "with IPython’s %timeit magic (discussed in “Profiling and Timing Code” on page 25):"
   ]
  },
  {
   "cell_type": "code",
   "execution_count": 43,
   "id": "58077d40",
   "metadata": {},
   "outputs": [
    {
     "name": "stdout",
     "output_type": "stream",
     "text": [
      "21.8 µs ± 956 ns per loop (mean ± std. dev. of 7 runs, 10000 loops each)\n"
     ]
    }
   ],
   "source": [
    "big_array = np.random.randint(1, 100, size=1000000)\n",
    "%timeit compute_reciprocals(big_array)"
   ]
  },
  {
   "cell_type": "markdown",
   "id": "73abf18d",
   "metadata": {},
   "source": [
    "It takes several seconds to compute these million operations and to store the result!\n",
    "When even cell phones have processing speeds measured in Giga-FLOPS (i.e., billions\n",
    "of numerical operations per second), this seems almost absurdly slow. It turns\n",
    "out that the bottleneck here is not the operations themselves, but the type-checking\n",
    "and function dispatches that CPython must do at each cycle of the loop. Each time\n",
    "the reciprocal is computed, Python first examines the object’s type and does a\n",
    "dynamic lookup of the correct function to use for that type. If we were working in\n",
    "compiled code instead, this type specification would be known before the code executes\n",
    "and the result could be computed much more efficiently."
   ]
  },
  {
   "cell_type": "markdown",
   "id": "7316b8af",
   "metadata": {},
   "source": [
    "# Lesson 3 <br>\n",
    "Introducing UFuncs"
   ]
  },
  {
   "cell_type": "code",
   "execution_count": null,
   "id": "47d0c2ae",
   "metadata": {},
   "outputs": [],
   "source": []
  }
 ],
 "metadata": {
  "kernelspec": {
   "display_name": "Python 3 (ipykernel)",
   "language": "python",
   "name": "python3"
  },
  "language_info": {
   "codemirror_mode": {
    "name": "ipython",
    "version": 3
   },
   "file_extension": ".py",
   "mimetype": "text/x-python",
   "name": "python",
   "nbconvert_exporter": "python",
   "pygments_lexer": "ipython3",
   "version": "3.10.1"
  }
 },
 "nbformat": 4,
 "nbformat_minor": 5
}
