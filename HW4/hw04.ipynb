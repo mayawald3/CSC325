{
 "cells": [
  {
   "cell_type": "markdown",
   "id": "2f060b0d-9985-4e08-b26a-b9dc13b4c9ca",
   "metadata": {},
   "source": [
    "### 1. Review the attached data.csv file. Is the data clean?\n",
    "   - The data is not clean because there is missing data which we can see using the isnull() pandas function and the count() function which shows missing values in the director, cast, country, date_added, rating, and duration columns. "
   ]
  },
  {
   "cell_type": "code",
   "execution_count": null,
   "id": "1553fa53-320c-4500-b433-70b00b770d1c",
   "metadata": {},
   "outputs": [],
   "source": [
    "import pandas as pd\n",
    "df = pd.read_csv(\"data.csv\")\n",
    "df.isnull()"
   ]
  },
  {
   "cell_type": "code",
   "execution_count": null,
   "id": "f127843c-6dd3-4a46-bc69-d4bf4555063f",
   "metadata": {},
   "outputs": [],
   "source": [
    "df.count()"
   ]
  },
  {
   "cell_type": "markdown",
   "id": "b59d9201-53d7-4191-abcc-3f132987e61a",
   "metadata": {},
   "source": [
    "### 2. Report the Descriptive Statistics using Central Tendency Theorem. \n",
    " - The only column that we will be able to find the descriptive statistics on without manipulating the data in any way is the release_year column.  "
   ]
  },
  {
   "cell_type": "code",
   "execution_count": null,
   "id": "6a0e1800-f0a7-4e14-ac86-6d26a3e30338",
   "metadata": {},
   "outputs": [],
   "source": [
    "years = pd.DataFrame(df, columns=['release_year'])\n",
    "years"
   ]
  },
  {
   "cell_type": "code",
   "execution_count": null,
   "id": "ba061e26-a810-495a-bec4-d400315473c5",
   "metadata": {},
   "outputs": [],
   "source": [
    "# Release Year Mean\n",
    "pd.DataFrame.mean(years)"
   ]
  },
  {
   "cell_type": "code",
   "execution_count": null,
   "id": "cff6fdee-eb13-4299-9ab8-92ed97680e39",
   "metadata": {},
   "outputs": [],
   "source": [
    "# Release Year Median\n",
    "pd.DataFrame.median(years)"
   ]
  },
  {
   "cell_type": "code",
   "execution_count": null,
   "id": "cb79207d-0dc7-4c33-8324-f58fb6b11656",
   "metadata": {},
   "outputs": [],
   "source": [
    "# Release Year Mode\n",
    "pd.DataFrame.mode(years)"
   ]
  },
  {
   "cell_type": "markdown",
   "id": "ce9c7c9f-dd81-4bf6-b698-f8818c58d685",
   "metadata": {},
   "source": [
    "### 3. Can you recommend binning based on the clean data. \n",
    "- We can clean the data by removing rows that contain a null value. "
   ]
  },
  {
   "cell_type": "code",
   "execution_count": null,
   "id": "2072024b-aa4a-4542-834b-d4930a9ba8fd",
   "metadata": {},
   "outputs": [],
   "source": [
    "clean_df = df.dropna()\n",
    "clean_df.count()"
   ]
  },
  {
   "cell_type": "markdown",
   "id": "b94ec103-30db-43db-b369-1bf1da15e39a",
   "metadata": {},
   "source": [
    "- Now we are left with 5332 which are clean in the way that there are no null values present. I would recommend that this data set be binned based on whether it is a Movie or TV Show. This way we could do separate the statistics based on those bins. The duration column would be more consistent with that binning.  "
   ]
  },
  {
   "cell_type": "code",
   "execution_count": null,
   "id": "61a9766b-a633-443f-aa5e-45e390e23e84",
   "metadata": {},
   "outputs": [],
   "source": [
    "movies = clean_df.loc[clean_df['type'] == 'Movie']"
   ]
  },
  {
   "cell_type": "code",
   "execution_count": null,
   "id": "3b9686f7-fd8a-4a5b-aae7-18121958f319",
   "metadata": {},
   "outputs": [],
   "source": [
    "tv_shows = clean_df.loc[clean_df['type'] == 'TV Show']"
   ]
  },
  {
   "cell_type": "markdown",
   "id": "314c4d7f-0274-4173-ab87-26ac338c23ef",
   "metadata": {},
   "source": [
    "Binning the data based on the type column means we can find the descriptive statistics of the duration after we remove the labels from the data and convert the durations to an integer."
   ]
  },
  {
   "cell_type": "code",
   "execution_count": null,
   "id": "0ab62476-b140-49d5-a73a-8abf65dc4454",
   "metadata": {},
   "outputs": [],
   "source": [
    "# Remove warning for chained assignment just for readability since that warning doesn't matter to us in this case\n",
    "pd.options.mode.chained_assignment = None  # default='warn' \n",
    "# Removing label by only keeping numeric values from duration column\n",
    "movies['duration'] = movies['duration'].str.replace('\\D', '', regex=True)\n",
    "tv_shows['duration'] = tv_shows['duration'].str.replace('\\D', '', regex=True)\n",
    "# Changing type to int\n",
    "movies['duration'] = movies['duration'].astype('str').astype('int')\n",
    "tv_shows['duration'] = tv_shows['duration'].astype('str').astype('int')\n",
    "# Storing duration column into its own DataFrame\n",
    "movie_duration = pd.DataFrame(movies, columns=['duration'])\n",
    "tv_show_duration = pd.DataFrame(tv_shows, columns=['duration'])"
   ]
  },
  {
   "cell_type": "code",
   "execution_count": null,
   "id": "134ba751-1443-43a0-8d27-c0630166d96e",
   "metadata": {},
   "outputs": [],
   "source": [
    "# Movie Duration Mean (Minutes)\n",
    "pd.DataFrame.mean(movie_duration)"
   ]
  },
  {
   "cell_type": "code",
   "execution_count": null,
   "id": "d3a06080-0c80-4bfc-9d9d-0ef9076736a1",
   "metadata": {},
   "outputs": [],
   "source": [
    "# Movie Duration Median (Minutes)\n",
    "pd.DataFrame.median(movie_duration)"
   ]
  },
  {
   "cell_type": "code",
   "execution_count": null,
   "id": "e51ce3e5-392d-461e-9174-aa1c700393de",
   "metadata": {},
   "outputs": [],
   "source": [
    "# Movie Duration Mode (Minutes)\n",
    "pd.DataFrame.mode(movie_duration)"
   ]
  },
  {
   "cell_type": "code",
   "execution_count": null,
   "id": "6c77d52b-ea64-4b4b-9f3f-64e80ca8baf2",
   "metadata": {},
   "outputs": [],
   "source": [
    "# TV Show Duration Mean (Seasons)\n",
    "pd.DataFrame.mean(tv_show_duration)"
   ]
  },
  {
   "cell_type": "code",
   "execution_count": null,
   "id": "84a84b1e-9d9a-435a-9492-399307bc3936",
   "metadata": {},
   "outputs": [],
   "source": [
    "# TV Show Duration Median (Seasons)\n",
    "pd.DataFrame.median(tv_show_duration)"
   ]
  },
  {
   "cell_type": "code",
   "execution_count": null,
   "id": "553685bc-f630-4a94-a781-23148163d808",
   "metadata": {},
   "outputs": [],
   "source": [
    "# TV Show Duration Mode (Seasons)\n",
    "pd.DataFrame.mode(tv_show_duration)"
   ]
  }
 ],
 "metadata": {
  "kernelspec": {
   "display_name": "Python 3 (ipykernel)",
   "language": "python",
   "name": "python3"
  },
  "language_info": {
   "codemirror_mode": {
    "name": "ipython",
    "version": 3
   },
   "file_extension": ".py",
   "mimetype": "text/x-python",
   "name": "python",
   "nbconvert_exporter": "python",
   "pygments_lexer": "ipython3",
   "version": "3.10.1"
  }
 },
 "nbformat": 4,
 "nbformat_minor": 5
}
