{
 "cells": [
  {
   "cell_type": "code",
   "execution_count": 1,
   "id": "62de48d2-87d8-4503-9569-e1b2f5e50a95",
   "metadata": {},
   "outputs": [
    {
     "name": "stdout",
     "output_type": "stream",
     "text": [
      "Contents of main1\n",
      "['main1sub1', 'main1sub2']\n",
      "Contents of main2\n",
      "['main2sub1', 'main2sub2']\n",
      "Contents of main1/main1sub1\n",
      "['data.csv']\n",
      "Contents of main1/main1sub2\n",
      "[]\n",
      "Contents of main2/main2sub1\n",
      "[]\n",
      "Contents of main2/main2sub2\n",
      "['mwald.jpg']\n"
     ]
    }
   ],
   "source": [
    "import os\n",
    "fileNames = [\"main1\", \"main2\", \"main1/main1sub1\", \"main1/main1sub2\", \"main2/main2sub1\", \"main2/main2sub2\"]\n",
    "for file in fileNames:\n",
    "    os.mkdir(file)\n",
    "csvFile = \"data.csv\"\n",
    "imageFile = \"mwald.jpg\"\n",
    "os.rename(csvFile, \"main1/main1sub1/data.csv\")\n",
    "os.rename(imageFile, \"main2/main2sub2/mwald.jpg\")\n",
    "for dir in fileNames:\n",
    "    print(\"Contents of\", dir)\n",
    "    print(os.listdir(dir))"
   ]
  },
  {
   "cell_type": "code",
   "execution_count": null,
   "id": "e692a9d0-27ac-401e-a071-8443e975fdc6",
   "metadata": {},
   "outputs": [],
   "source": []
  }
 ],
 "metadata": {
  "kernelspec": {
   "display_name": "Python 3 (ipykernel)",
   "language": "python",
   "name": "python3"
  },
  "language_info": {
   "codemirror_mode": {
    "name": "ipython",
    "version": 3
   },
   "file_extension": ".py",
   "mimetype": "text/x-python",
   "name": "python",
   "nbconvert_exporter": "python",
   "pygments_lexer": "ipython3",
   "version": "3.10.1"
  }
 },
 "nbformat": 4,
 "nbformat_minor": 5
}
