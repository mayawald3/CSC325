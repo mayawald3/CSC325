{
 "cells": [
  {
   "cell_type": "code",
   "execution_count": 1,
   "id": "1224c18d-e30c-4a21-b5e2-747568fae7a9",
   "metadata": {},
   "outputs": [
    {
     "name": "stdout",
     "output_type": "stream",
     "text": [
      "['firstname', 'lastname', 'city']\n",
      "['Maya', 'Wald', 'Bismarck']\n",
      "['Steve', 'Johnson', 'Minot']\n",
      "['Kathy', 'Smith', 'Fargo']\n",
      "['Anthony', 'Fast', 'Velva']\n"
     ]
    }
   ],
   "source": [
    "import csv\n",
    "\n",
    "with open(\"./data.csv\") as file:\n",
    "  csvreader = csv.reader(file)\n",
    "  for row in csvreader:\n",
    "    print(row)"
   ]
  },
  {
   "cell_type": "code",
   "execution_count": null,
   "id": "09441b46-afc3-4551-8d44-7cae684725bd",
   "metadata": {},
   "outputs": [],
   "source": [
    "import cv2 \n",
    "img = cv2.imread(\"mwald.jpg\")\n",
    "cv2.imshow(\"Selfie\", img)\n",
    "cv2.waitKey(0)"
   ]
  },
  {
   "cell_type": "code",
   "execution_count": null,
   "id": "a633bad6-6dda-49f0-a314-fbeb34402c9d",
   "metadata": {},
   "outputs": [],
   "source": []
  }
 ],
 "metadata": {
  "kernelspec": {
   "display_name": "Python 3 (ipykernel)",
   "language": "python",
   "name": "python3"
  },
  "language_info": {
   "codemirror_mode": {
    "name": "ipython",
    "version": 3
   },
   "file_extension": ".py",
   "mimetype": "text/x-python",
   "name": "python",
   "nbconvert_exporter": "python",
   "pygments_lexer": "ipython3",
   "version": "3.10.12"
  }
 },
 "nbformat": 4,
 "nbformat_minor": 5
}
